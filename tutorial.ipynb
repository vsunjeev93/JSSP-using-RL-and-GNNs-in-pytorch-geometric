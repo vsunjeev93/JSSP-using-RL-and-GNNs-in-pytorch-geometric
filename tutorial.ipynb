{
 "cells": [
  {
   "cell_type": "code",
   "execution_count": 6,
   "metadata": {},
   "outputs": [
    {
     "name": "stdout",
     "output_type": "stream",
     "text": [
      "processing times\n",
      "[[72 39 26 34 54]\n",
      " [ 3 50 12 65 54]\n",
      " [ 5 94 94 57 17]\n",
      " [47 23 79 85 14]\n",
      " [66 75 51 38 64]]\n",
      " machine use\n",
      " [[0 1 3 4 2]\n",
      " [1 4 2 3 0]\n",
      " [3 0 1 4 2]\n",
      " [1 2 0 4 3]\n",
      " [3 4 2 0 1]]\n"
     ]
    }
   ],
   "source": [
    "import sys\n",
    "import os\n",
    "sys.path.append(os.getcwd())\n",
    "# print(os.path.realpath(os.getcwd()))\n",
    "from data_generator import data_generator, uni_instance_gen, generate_graph_from_data\n",
    "\n",
    "nj=5\n",
    "nm=5\n",
    "high=99\n",
    "low=1\n",
    "times,machines=uni_instance_gen(nj,nm,low,high)\n",
    "print(f\"processing times\\n{times}\\n machine use\\n {machines}\")\n",
    "\n",
    "\n"
   ]
  },
  {
   "cell_type": "markdown",
   "metadata": {},
   "source": [
    "times- is an (nj,nm) np array denoting the processing time of every operation in each job. \n",
    "machine- is an (nj,nm) np array denoting the machine each operation uses.\n",
    "In the next cell graph data will be generated from the times and machine np arrays"
   ]
  },
  {
   "cell_type": "code",
   "execution_count": null,
   "metadata": {},
   "outputs": [
    {
     "name": "stdout",
     "output_type": "stream",
     "text": [
      "JSSPData(x=[27, 8], edge_index=[2, 30], reversed_edge_index=[2, 30], op_machine_map=[27], processing_times=[27], num_mach=5, machine_avail_time=[5], machine_last_op=[5], op_end_time=[27], graph_id_offset=[1], mask=[27], remaining_processing_time=[27], est_end_time=294.0)\n"
     ]
    }
   ],
   "source": [
    "graph_data = generate_graph_from_data(nj, nm, times, machines)\n",
    "print(graph_data)"
   ]
  },
  {
   "cell_type": "markdown",
   "metadata": {},
   "source": [
    "![image](https://github.com/user-attachments/assets/f8f68257-dabe-47e9-870a-832767b62105)\n",
    "graph_data is an instance of JSSPData containing $nj \\times nm+2$ nodes It consists of the following attributes\n",
    "\n",
    "**x**- node features. _size_ _(nj*nm+2,nm+2)_\\\n",
    "**edge_index**-contains the edges in the graph. _size_ _(2,nj(nm+1))_\\\n",
    "**reversed_edge_index**-contains the edges in reverse (more about this later). _size_ _(2,nj(nm+1))\\\n",
    "**op_machine_map**-a list containing a mapping of operation (node) to the machine it uses. _size_ _(njnm+2,)_\\\n",
    "**processing_times**- processing time of each operation (node). _size_ _(nj*nm+2,)_\\\n",
    "**machine_avail_time**- earliest time a machine is available. _size_ _(nm,)_\\\n",
    "**machine_last_op**- operation assigned to machine currently. _size_ _(nm,)_\\\n",
    "**op_end_time**- end time of each operation. _size_ _(nj*nm+2)_\\\n",
    "**remaining_processing_time**- remaining processing time remaining after each operation. _size_ (nj*nm+2,) \\\n",
    "**graph_id_offset**- useful when batching- an index to capture when each graph begins equals 1 for a single graph\\\n",
    "**est_end_time** - estimation of the make span. Calculated as max of sum of processing times amongst all jobs"
   ]
  },
  {
   "cell_type": "code",
   "execution_count": null,
   "metadata": {},
   "outputs": [],
   "source": []
  },
  {
   "cell_type": "code",
   "execution_count": null,
   "metadata": {},
   "outputs": [],
   "source": [
    "# job parameters\n",
    "param_dict={'nj':10,# number of jobs\n",
    "            'nm':10,# number of machines\n",
    "            'low':1,#min processing time\n",
    "            'high':99,# max processing time (actual values will be distributed uniformly between min and max)\n",
    "            'instances':300,# number of total problem instances\n",
    "            'batch_size':10,}#batch size. Increase this to a large value if using a GPU"
   ]
  },
  {
   "cell_type": "markdown",
   "metadata": {},
   "source": []
  }
 ],
 "metadata": {
  "kernelspec": {
   "display_name": "Python 3",
   "language": "python",
   "name": "python3"
  },
  "language_info": {
   "codemirror_mode": {
    "name": "ipython",
    "version": 3
   },
   "file_extension": ".py",
   "mimetype": "text/x-python",
   "name": "python",
   "nbconvert_exporter": "python",
   "pygments_lexer": "ipython3",
   "version": "3.10.15"
  }
 },
 "nbformat": 4,
 "nbformat_minor": 2
}
